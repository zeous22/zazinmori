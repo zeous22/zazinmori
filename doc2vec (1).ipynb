{
  "nbformat": 4,
  "nbformat_minor": 0,
  "metadata": {
    "colab": {
      "provenance": [],
      "collapsed_sections": []
    },
    "kernelspec": {
      "name": "python3",
      "display_name": "Python 3"
    },
    "language_info": {
      "name": "python"
    },
    "accelerator": "TPU",
    "gpuClass": "standard"
  },
  "cells": [
    {
      "cell_type": "code",
      "source": [
        "# 파이토치설치 \n",
        "!pip3 install torch\n",
        "!pip3 install torchvision"
      ],
      "metadata": {
        "colab": {
          "base_uri": "https://localhost:8080/"
        },
        "id": "HzNj6oEMeZxy",
        "outputId": "13e0efa7-04bd-4773-c2fa-eb5e5b9aafbd"
      },
      "execution_count": null,
      "outputs": [
        {
          "output_type": "stream",
          "name": "stdout",
          "text": [
            "Looking in indexes: https://pypi.org/simple, https://us-python.pkg.dev/colab-wheels/public/simple/\n",
            "Requirement already satisfied: torch in /usr/local/lib/python3.7/dist-packages (1.12.1+cu113)\n",
            "Requirement already satisfied: typing-extensions in /usr/local/lib/python3.7/dist-packages (from torch) (4.1.1)\n",
            "Looking in indexes: https://pypi.org/simple, https://us-python.pkg.dev/colab-wheels/public/simple/\n",
            "Requirement already satisfied: torchvision in /usr/local/lib/python3.7/dist-packages (0.13.1+cu113)\n",
            "Requirement already satisfied: requests in /usr/local/lib/python3.7/dist-packages (from torchvision) (2.23.0)\n",
            "Requirement already satisfied: numpy in /usr/local/lib/python3.7/dist-packages (from torchvision) (1.21.6)\n",
            "Requirement already satisfied: pillow!=8.3.*,>=5.3.0 in /usr/local/lib/python3.7/dist-packages (from torchvision) (7.1.2)\n",
            "Requirement already satisfied: torch==1.12.1 in /usr/local/lib/python3.7/dist-packages (from torchvision) (1.12.1+cu113)\n",
            "Requirement already satisfied: typing-extensions in /usr/local/lib/python3.7/dist-packages (from torchvision) (4.1.1)\n",
            "Requirement already satisfied: urllib3!=1.25.0,!=1.25.1,<1.26,>=1.21.1 in /usr/local/lib/python3.7/dist-packages (from requests->torchvision) (1.24.3)\n",
            "Requirement already satisfied: certifi>=2017.4.17 in /usr/local/lib/python3.7/dist-packages (from requests->torchvision) (2022.6.15)\n",
            "Requirement already satisfied: chardet<4,>=3.0.2 in /usr/local/lib/python3.7/dist-packages (from requests->torchvision) (3.0.4)\n",
            "Requirement already satisfied: idna<3,>=2.5 in /usr/local/lib/python3.7/dist-packages (from requests->torchvision) (2.10)\n"
          ]
        }
      ]
    },
    {
      "cell_type": "code",
      "execution_count": null,
      "metadata": {
        "id": "AI129erRHRtD"
      },
      "outputs": [],
      "source": [
        "#사용할 cpu 코어 수 \n",
        "import multiprocessing\n",
        "num_cores = multiprocessing.cpu_count()"
      ]
    },
    {
      "cell_type": "code",
      "source": [
        "# genism의 doc2vec과 말뭉치 문서 벡터 불러오기\n",
        "from gensim.models.doc2vec import TaggedDocument,Doc2Vec\n",
        "from gensim.utils import simple_preprocess"
      ],
      "metadata": {
        "id": "DpUuGlGZHXl2"
      },
      "execution_count": null,
      "outputs": []
    },
    {
      "cell_type": "code",
      "source": [
        "# 문자열을 하나씩 처리할 수 있게 할당\n",
        "corpus = ['This is the first document ...',\n",
        "          'another document ...']"
      ],
      "metadata": {
        "id": "tXoHsIXOHZkC"
      },
      "execution_count": null,
      "outputs": []
    },
    {
      "cell_type": "code",
      "source": [
        "# genism의 TaggedDocument는 문서에 그 문서의 분류명이나 키워드 같은 메타 정보를 담은 \n",
        "# 문자열 또는 정수값을 부여 할 수 있다.\n",
        "training_corpus = []\n",
        "for i, text in enumerate(corpus):\n",
        "    tagged_doc = TaggedDocument(simple_preprocess(text),[i])\n",
        "    training_corpus.append(tagged_doc)"
      ],
      "metadata": {
        "id": "dY1k0Sn2HcSS"
      },
      "execution_count": null,
      "outputs": []
    },
    {
      "cell_type": "code",
      "source": [
        "# 문맥 구간 크기가 10이고 단어 벡터와 문서벡터의 차원 수가 100인  doc2vec 생성(word2vec(300)과 차이가 있다.)\n",
        "# min_count는 모형에 포함할 문서의 최소 빈도\n",
        "model = Doc2Vec(size=100,min_count=2,workers=num_cores,iter=10)\n"
      ],
      "metadata": {
        "colab": {
          "base_uri": "https://localhost:8080/"
        },
        "id": "d34dmaCIHd9r",
        "outputId": "59d200b3-2c6b-4c98-8132-d54032795566"
      },
      "execution_count": null,
      "outputs": [
        {
          "output_type": "stream",
          "name": "stderr",
          "text": [
            "/usr/local/lib/python3.7/dist-packages/gensim/models/doc2vec.py:566: UserWarning: The parameter `iter` is deprecated, will be removed in 4.0.0, use `epochs` instead.\n",
            "  warnings.warn(\"The parameter `iter` is deprecated, will be removed in 4.0.0, use `epochs` instead.\")\n",
            "/usr/local/lib/python3.7/dist-packages/gensim/models/doc2vec.py:570: UserWarning: The parameter `size` is deprecated, will be removed in 4.0.0, use `vector_size` instead.\n",
            "  warnings.warn(\"The parameter `size` is deprecated, will be removed in 4.0.0, use `vector_size` instead.\")\n"
          ]
        }
      ]
    },
    {
      "cell_type": "code",
      "source": [
        "# build_vocab을 통해 어휘 compile 후 train 진행\n",
        "model.build_vocab(training_corpus)\n",
        "model.train(training_corpus,total_examples=model.corpus_count,epochs=model.iter)"
      ],
      "metadata": {
        "colab": {
          "base_uri": "https://localhost:8080/"
        },
        "id": "DusdzSGSHfq6",
        "outputId": "0e65c2b0-c3c4-4eb6-a80c-4b7bfe6742eb"
      },
      "execution_count": null,
      "outputs": [
        {
          "output_type": "stream",
          "name": "stderr",
          "text": [
            "/usr/local/lib/python3.7/dist-packages/ipykernel_launcher.py:3: DeprecationWarning: Call to deprecated `iter` (Attribute will be removed in 4.0.0, use self.epochs instead).\n",
            "  This is separate from the ipykernel package so we can avoid doing imports until\n",
            "WARNING:gensim.models.base_any2vec:under 10 jobs per worker: consider setting a smaller `batch_words' for smoother alpha decay\n"
          ]
        }
      ]
    },
    {
      "cell_type": "code",
      "source": [
        "# 모형 벡터에 대한 훈련 후 새로운 문서에 대한 문서 벡터를 추론 infer_vector() 메소드 호출\n",
        "model.infer_vector(simple_preprocess('This is a completely unseen document'),steps=10)"
      ],
      "metadata": {
        "colab": {
          "base_uri": "https://localhost:8080/"
        },
        "id": "Q-oRy5ZhHhmy",
        "outputId": "36d987cd-d41f-4b1d-8b29-0ba0f8599a2f"
      },
      "execution_count": null,
      "outputs": [
        {
          "output_type": "execute_result",
          "data": {
            "text/plain": [
              "array([-3.7244118e-03,  3.3622578e-04,  3.7743766e-03,  2.5553140e-03,\n",
              "       -5.7843816e-04, -4.3292199e-03, -1.0947112e-03,  4.7134371e-03,\n",
              "       -2.3666477e-04,  3.2731073e-03, -1.3071541e-03,  4.1520298e-03,\n",
              "       -1.4676734e-04, -1.3337916e-03, -4.9810344e-03,  8.4543403e-04,\n",
              "        3.4879637e-03, -3.3823801e-03, -4.9409149e-03,  4.4783396e-03,\n",
              "       -9.8284497e-04, -1.6118769e-03, -3.8480710e-03, -1.0452958e-04,\n",
              "        4.2510894e-03, -2.8009585e-03, -1.2770919e-03, -4.3251966e-03,\n",
              "       -2.2060238e-03,  2.1527947e-03, -1.6882671e-04, -3.2586679e-03,\n",
              "       -9.6064864e-04,  3.0999992e-04,  4.4921818e-03,  1.8617832e-04,\n",
              "        8.6221145e-04, -1.9217966e-03, -1.3168908e-03, -2.3913754e-03,\n",
              "        3.9035126e-03, -4.0490003e-04,  4.4919983e-03, -1.5346527e-03,\n",
              "       -3.6592139e-03,  3.7149193e-03, -4.4155549e-03, -1.0835744e-03,\n",
              "        4.0851780e-03,  1.6121638e-04,  4.0103123e-03, -1.0936703e-03,\n",
              "        3.2266797e-03,  4.9124626e-03,  3.5046544e-03,  2.4300080e-03,\n",
              "       -4.3797581e-03,  3.9312569e-04, -2.5112370e-03, -1.8572221e-03,\n",
              "       -3.2808429e-03,  1.0959820e-03, -2.6007567e-03,  1.5135932e-04,\n",
              "       -1.7457785e-03,  5.5085206e-05, -4.5469878e-03,  2.9996950e-03,\n",
              "       -8.9814310e-04, -3.9522066e-03,  2.7368104e-03,  4.8097735e-04,\n",
              "       -1.7403805e-03,  4.3053562e-03, -3.1526817e-03,  2.2121072e-03,\n",
              "       -1.4465195e-03,  1.1281989e-03,  5.9887982e-04, -1.7274831e-03,\n",
              "       -9.4394694e-04,  4.7672237e-03,  3.2700275e-03, -4.4301329e-03,\n",
              "       -6.1701832e-04,  3.4885976e-04,  3.1113091e-03, -4.9920315e-03,\n",
              "        6.4105308e-04,  7.0115610e-04, -1.4707557e-03, -3.2269040e-03,\n",
              "       -4.0566716e-03,  2.3612306e-03,  4.5330394e-03,  3.9925505e-03,\n",
              "        4.0806537e-03, -4.4629243e-03,  9.8303752e-04, -4.1668243e-03],\n",
              "      dtype=float32)"
            ]
          },
          "metadata": {},
          "execution_count": 8
        }
      ]
    },
    {
      "cell_type": "code",
      "source": [
        "similar_doc = model.docvecs.most_similar('1')"
      ],
      "metadata": {
        "colab": {
          "base_uri": "https://localhost:8080/",
          "height": 321
        },
        "id": "0cCwsJPAHkA6",
        "outputId": "f6a26cf6-21b4-446b-ae59-37d1de5baa28"
      },
      "execution_count": null,
      "outputs": [
        {
          "output_type": "error",
          "ename": "TypeError",
          "evalue": "ignored",
          "traceback": [
            "\u001b[0;31m---------------------------------------------------------------------------\u001b[0m",
            "\u001b[0;31mTypeError\u001b[0m                                 Traceback (most recent call last)",
            "\u001b[0;32m<ipython-input-9-b2e2c92dd990>\u001b[0m in \u001b[0;36m<module>\u001b[0;34m\u001b[0m\n\u001b[0;32m----> 1\u001b[0;31m \u001b[0msimilar_doc\u001b[0m \u001b[0;34m=\u001b[0m \u001b[0mmodel\u001b[0m\u001b[0;34m.\u001b[0m\u001b[0mdocvecs\u001b[0m\u001b[0;34m.\u001b[0m\u001b[0mmost_similar\u001b[0m\u001b[0;34m(\u001b[0m\u001b[0;34m'1'\u001b[0m\u001b[0;34m)\u001b[0m\u001b[0;34m\u001b[0m\u001b[0;34m\u001b[0m\u001b[0m\n\u001b[0m",
            "\u001b[0;32m/usr/local/lib/python3.7/dist-packages/gensim/models/keyedvectors.py\u001b[0m in \u001b[0;36mmost_similar\u001b[0;34m(self, positive, negative, topn, clip_start, clip_end, indexer)\u001b[0m\n\u001b[1;32m   1647\u001b[0m             \u001b[0;32mif\u001b[0m \u001b[0misinstance\u001b[0m\u001b[0;34m(\u001b[0m\u001b[0mdoc\u001b[0m\u001b[0;34m,\u001b[0m \u001b[0mndarray\u001b[0m\u001b[0;34m)\u001b[0m\u001b[0;34m:\u001b[0m\u001b[0;34m\u001b[0m\u001b[0;34m\u001b[0m\u001b[0m\n\u001b[1;32m   1648\u001b[0m                 \u001b[0mmean\u001b[0m\u001b[0;34m.\u001b[0m\u001b[0mappend\u001b[0m\u001b[0;34m(\u001b[0m\u001b[0mweight\u001b[0m \u001b[0;34m*\u001b[0m \u001b[0mdoc\u001b[0m\u001b[0;34m)\u001b[0m\u001b[0;34m\u001b[0m\u001b[0;34m\u001b[0m\u001b[0m\n\u001b[0;32m-> 1649\u001b[0;31m             \u001b[0;32melif\u001b[0m \u001b[0mdoc\u001b[0m \u001b[0;32min\u001b[0m \u001b[0mself\u001b[0m\u001b[0;34m.\u001b[0m\u001b[0mdoctags\u001b[0m \u001b[0;32mor\u001b[0m \u001b[0mdoc\u001b[0m \u001b[0;34m<\u001b[0m \u001b[0mself\u001b[0m\u001b[0;34m.\u001b[0m\u001b[0mcount\u001b[0m\u001b[0;34m:\u001b[0m\u001b[0;34m\u001b[0m\u001b[0;34m\u001b[0m\u001b[0m\n\u001b[0m\u001b[1;32m   1650\u001b[0m                 \u001b[0mmean\u001b[0m\u001b[0;34m.\u001b[0m\u001b[0mappend\u001b[0m\u001b[0;34m(\u001b[0m\u001b[0mweight\u001b[0m \u001b[0;34m*\u001b[0m \u001b[0mself\u001b[0m\u001b[0;34m.\u001b[0m\u001b[0mvectors_docs_norm\u001b[0m\u001b[0;34m[\u001b[0m\u001b[0mself\u001b[0m\u001b[0;34m.\u001b[0m\u001b[0m_int_index\u001b[0m\u001b[0;34m(\u001b[0m\u001b[0mdoc\u001b[0m\u001b[0;34m,\u001b[0m \u001b[0mself\u001b[0m\u001b[0;34m.\u001b[0m\u001b[0mdoctags\u001b[0m\u001b[0;34m,\u001b[0m \u001b[0mself\u001b[0m\u001b[0;34m.\u001b[0m\u001b[0mmax_rawint\u001b[0m\u001b[0;34m)\u001b[0m\u001b[0;34m]\u001b[0m\u001b[0;34m)\u001b[0m\u001b[0;34m\u001b[0m\u001b[0;34m\u001b[0m\u001b[0m\n\u001b[1;32m   1651\u001b[0m                 \u001b[0mall_docs\u001b[0m\u001b[0;34m.\u001b[0m\u001b[0madd\u001b[0m\u001b[0;34m(\u001b[0m\u001b[0mself\u001b[0m\u001b[0;34m.\u001b[0m\u001b[0m_int_index\u001b[0m\u001b[0;34m(\u001b[0m\u001b[0mdoc\u001b[0m\u001b[0;34m,\u001b[0m \u001b[0mself\u001b[0m\u001b[0;34m.\u001b[0m\u001b[0mdoctags\u001b[0m\u001b[0;34m,\u001b[0m \u001b[0mself\u001b[0m\u001b[0;34m.\u001b[0m\u001b[0mmax_rawint\u001b[0m\u001b[0;34m)\u001b[0m\u001b[0;34m)\u001b[0m\u001b[0;34m\u001b[0m\u001b[0;34m\u001b[0m\u001b[0m\n",
            "\u001b[0;31mTypeError\u001b[0m: '<' not supported between instances of 'str' and 'int'"
          ]
        }
      ]
    },
    {
      "cell_type": "markdown",
      "source": [
        "### 다른예제"
      ],
      "metadata": {
        "id": "EJWgdhZ8Jopi"
      }
    },
    {
      "cell_type": "code",
      "source": [
        "pip install nltk"
      ],
      "metadata": {
        "colab": {
          "base_uri": "https://localhost:8080/"
        },
        "id": "g8lfZh2rKYY6",
        "outputId": "bd6f739f-ec0e-45c8-ed2a-e02c886e4234"
      },
      "execution_count": null,
      "outputs": [
        {
          "output_type": "stream",
          "name": "stdout",
          "text": [
            "Looking in indexes: https://pypi.org/simple, https://us-python.pkg.dev/colab-wheels/public/simple/\n",
            "Requirement already satisfied: nltk in /usr/local/lib/python3.7/dist-packages (3.7)\n",
            "Requirement already satisfied: click in /usr/local/lib/python3.7/dist-packages (from nltk) (7.1.2)\n",
            "Requirement already satisfied: joblib in /usr/local/lib/python3.7/dist-packages (from nltk) (1.1.0)\n",
            "Requirement already satisfied: tqdm in /usr/local/lib/python3.7/dist-packages (from nltk) (4.64.1)\n",
            "Requirement already satisfied: regex>=2021.8.3 in /usr/local/lib/python3.7/dist-packages (from nltk) (2022.6.2)\n"
          ]
        }
      ]
    },
    {
      "cell_type": "code",
      "source": [
        " pip install konlpy"
      ],
      "metadata": {
        "colab": {
          "base_uri": "https://localhost:8080/"
        },
        "id": "RM1-JEqHL4ix",
        "outputId": "5d134f5c-5495-408e-bf99-3a2ac5c79305"
      },
      "execution_count": null,
      "outputs": [
        {
          "output_type": "stream",
          "name": "stdout",
          "text": [
            "Looking in indexes: https://pypi.org/simple, https://us-python.pkg.dev/colab-wheels/public/simple/\n",
            "Collecting konlpy\n",
            "  Downloading konlpy-0.6.0-py2.py3-none-any.whl (19.4 MB)\n",
            "\u001b[K     |████████████████████████████████| 19.4 MB 1.9 MB/s \n",
            "\u001b[?25hCollecting JPype1>=0.7.0\n",
            "  Downloading JPype1-1.4.0-cp37-cp37m-manylinux_2_5_x86_64.manylinux1_x86_64.whl (453 kB)\n",
            "\u001b[K     |████████████████████████████████| 453 kB 45.5 MB/s \n",
            "\u001b[?25hRequirement already satisfied: numpy>=1.6 in /usr/local/lib/python3.7/dist-packages (from konlpy) (1.21.6)\n",
            "Requirement already satisfied: lxml>=4.1.0 in /usr/local/lib/python3.7/dist-packages (from konlpy) (4.9.1)\n",
            "Requirement already satisfied: typing-extensions in /usr/local/lib/python3.7/dist-packages (from JPype1>=0.7.0->konlpy) (4.1.1)\n",
            "Installing collected packages: JPype1, konlpy\n",
            "Successfully installed JPype1-1.4.0 konlpy-0.6.0\n"
          ]
        }
      ]
    },
    {
      "cell_type": "code",
      "source": [
        "from gensim.models.doc2vec import Doc2Vec, TaggedDocument\n",
        "from nltk.tokenize import word_tokenize\n",
        "import nltk\n",
        "nltk.download('punkt')\n"
      ],
      "metadata": {
        "colab": {
          "base_uri": "https://localhost:8080/"
        },
        "id": "Q8iCq7gPKuXj",
        "outputId": "e7274cf0-7b73-4791-fecb-b4188c9bc1fa"
      },
      "execution_count": null,
      "outputs": [
        {
          "output_type": "stream",
          "name": "stderr",
          "text": [
            "[nltk_data] Downloading package punkt to /root/nltk_data...\n",
            "[nltk_data]   Unzipping tokenizers/punkt.zip.\n"
          ]
        },
        {
          "output_type": "execute_result",
          "data": {
            "text/plain": [
              "True"
            ]
          },
          "metadata": {},
          "execution_count": 1
        }
      ]
    },
    {
      "cell_type": "code",
      "source": [
        "from google.colab import drive\n",
        "drive.mount('/content/drive')\n",
        "import warnings\n",
        "warnings.filterwarnings(action='ignore')\n",
        "import pandas as pd\n",
        "import matplotlib.pyplot as plt\n",
        "import urllib.request\n",
        "from gensim.models.word2vec import Word2Vec\n",
        "from konlpy.tag import Okt\n",
        "from tqdm import tqdm #tqdm 진행상태 시각화"
      ],
      "metadata": {
        "colab": {
          "base_uri": "https://localhost:8080/"
        },
        "id": "okc3m9IFLYGp",
        "outputId": "2a838144-7988-45cf-8d37-d47031f1d64e"
      },
      "execution_count": null,
      "outputs": [
        {
          "output_type": "stream",
          "name": "stdout",
          "text": [
            "Mounted at /content/drive\n"
          ]
        }
      ]
    },
    {
      "cell_type": "code",
      "source": [
        "# # 구글드라이브 csv 공유파일 불러오기\n",
        "# import pandas as pd\n",
        "# url=\"https://drive.google.com/file/d/1PmhftdOhUA6I3NbGqa9RunLKpUAlT1qe/view?usp=sharing\" #구글드라이브 csv파일 이미지 주소\n",
        "# path='https://drive.google.com/uc?id='+url.split('/')[-2]\n",
        "# print(\"▶ 공유파일 링크변환 경로명 : \", path)\n",
        "# df=pd.read_csv(path)\n",
        "# df"
      ],
      "metadata": {
        "id": "M--TY8RTLfvC"
      },
      "execution_count": null,
      "outputs": []
    },
    {
      "cell_type": "code",
      "source": [
        "df=pd.read_csv('/content/drive/MyDrive/4조_Study/Word2Vec/data/total_cv.csv')"
      ],
      "metadata": {
        "id": "maOeF3lbAoQx"
      },
      "execution_count": null,
      "outputs": []
    },
    {
      "cell_type": "code",
      "source": [
        "df.info()"
      ],
      "metadata": {
        "colab": {
          "base_uri": "https://localhost:8080/"
        },
        "id": "fvAaFXcXLgCI",
        "outputId": "0701ffe6-b7b7-4239-b1cd-c5b5ef7ec512"
      },
      "execution_count": null,
      "outputs": [
        {
          "output_type": "stream",
          "name": "stdout",
          "text": [
            "<class 'pandas.core.frame.DataFrame'>\n",
            "RangeIndex: 32551 entries, 0 to 32550\n",
            "Data columns (total 13 columns):\n",
            " #   Column        Non-Null Count  Dtype \n",
            "---  ------        --------------  ----- \n",
            " 0   Unnamed: 0    32551 non-null  int64 \n",
            " 1   index         32551 non-null  int64 \n",
            " 2   corp_nm       32551 non-null  object\n",
            " 3   job           32551 non-null  object\n",
            " 4   recruit_date  32551 non-null  object\n",
            " 5   new_or_exp    32551 non-null  object\n",
            " 6   jiwon         15744 non-null  object\n",
            " 7   exp           19701 non-null  object\n",
            " 8   grow          8051 non-null   object\n",
            " 9   duty          8882 non-null   object\n",
            " 10  cha           4610 non-null   object\n",
            " 11  iss           3392 non-null   object\n",
            " 12  etc           14342 non-null  object\n",
            "dtypes: int64(2), object(11)\n",
            "memory usage: 3.2+ MB\n"
          ]
        }
      ]
    },
    {
      "cell_type": "code",
      "source": [
        "df.fillna('자료없음', inplace=True)"
      ],
      "metadata": {
        "id": "oRRDRgJvPu2-"
      },
      "execution_count": null,
      "outputs": []
    },
    {
      "cell_type": "code",
      "source": [
        "# df1=df[df['q1'].str.contains('지원')]"
      ],
      "metadata": {
        "id": "Un-tbXBdOTH3"
      },
      "execution_count": null,
      "outputs": []
    },
    {
      "cell_type": "code",
      "source": [
        "# df1['a1'] = df1['a1'].str.replace(\"[^ㄱ-ㅎㅏ-ㅣ가-힣 ]\",\"\")"
      ],
      "metadata": {
        "id": "0DSHwvDeNCmI"
      },
      "execution_count": null,
      "outputs": []
    },
    {
      "cell_type": "code",
      "source": [
        "df['jiwon'][4]"
      ],
      "metadata": {
        "colab": {
          "base_uri": "https://localhost:8080/",
          "height": 90
        },
        "id": "ir-0w1HJNKrH",
        "outputId": "94166e28-7153-4f37-8bda-90981f3872be"
      },
      "execution_count": null,
      "outputs": [
        {
          "output_type": "execute_result",
          "data": {
            "text/plain": [
              "'저는 스위스라는 나라를 좋아합니다 루체른 지역에 여행을 갔을 때 정교한 교량에 제작자의 이름이 적혀 있는 것이 너무 멋있어 보였습니다그 후 저는 교량이나 댐에 대해 자연스레 관심이 생겼습니다 기초공사부터 시작해 거푸집을 세우고 콘크리트를 부으며 안전진단을 거쳐 순수한 노력이 들어간 구조물에 이름을 새긴다는 것저에게는 생각만 해도 설레는 일이었습니다 포스코 건설은 현재 토목사업 중에서도 도로 및 교량건설 및 관리사업을 시행하고 있고 철도건설 중부내륙고속도로 사업에 참여함으로써 많은 경험을 확보하고 있습니다부실시공 미흡한 내진설계로 인한 피해에 대비하여 완벽한 토목현장관리와 도로건설사업을 통해국민에게 신뢰받는 기업의 수익창출을 지향하는 전문 포스코인이 되고싶습니다'"
            ],
            "application/vnd.google.colaboratory.intrinsic+json": {
              "type": "string"
            }
          },
          "metadata": {},
          "execution_count": 11
        }
      ]
    },
    {
      "cell_type": "code",
      "source": [
        "df.drop_duplicates(subset='jiwon',keep='last',inplace=True)\n",
        "df.info()"
      ],
      "metadata": {
        "id": "XkUSquBOO63o",
        "outputId": "db0608ae-d330-4119-ac80-061ccb4b0588",
        "colab": {
          "base_uri": "https://localhost:8080/"
        }
      },
      "execution_count": null,
      "outputs": [
        {
          "output_type": "stream",
          "name": "stdout",
          "text": [
            "<class 'pandas.core.frame.DataFrame'>\n",
            "Int64Index: 11106 entries, 0 to 32550\n",
            "Data columns (total 13 columns):\n",
            " #   Column        Non-Null Count  Dtype \n",
            "---  ------        --------------  ----- \n",
            " 0   Unnamed: 0    11106 non-null  int64 \n",
            " 1   index         11106 non-null  int64 \n",
            " 2   corp_nm       11106 non-null  object\n",
            " 3   job           11106 non-null  object\n",
            " 4   recruit_date  11106 non-null  object\n",
            " 5   new_or_exp    11106 non-null  object\n",
            " 6   jiwon         11106 non-null  object\n",
            " 7   exp           11106 non-null  object\n",
            " 8   grow          11106 non-null  object\n",
            " 9   duty          11106 non-null  object\n",
            " 10  cha           11106 non-null  object\n",
            " 11  iss           11106 non-null  object\n",
            " 12  etc           11106 non-null  object\n",
            "dtypes: int64(2), object(11)\n",
            "memory usage: 1.2+ MB\n"
          ]
        }
      ]
    },
    {
      "cell_type": "code",
      "source": [
        "df['corp_nm'].value_counts().head(10)"
      ],
      "metadata": {
        "colab": {
          "base_uri": "https://localhost:8080/"
        },
        "id": "e4xaiVlJcmK8",
        "outputId": "25d81dfd-0ea9-4623-d7f3-6fa0c7afe417"
      },
      "execution_count": null,
      "outputs": [
        {
          "output_type": "execute_result",
          "data": {
            "text/plain": [
              "삼성전자       488\n",
              "GS리테일      342\n",
              "KT         292\n",
              "LG디스플레이    233\n",
              "현대자동차      216\n",
              "대한항공       157\n",
              "한국중부발전     152\n",
              "LG전자       131\n",
              "CJ대한통운     131\n",
              "한국동서발전     125\n",
              "Name: corp_nm, dtype: int64"
            ]
          },
          "metadata": {},
          "execution_count": 16
        }
      ]
    },
    {
      "cell_type": "code",
      "source": [
        "import numpy as np\n",
        "A1=np.array(df['jiwon'], dtype=object)\n",
        "# answer=''.join(A1)\n",
        "A1"
      ],
      "metadata": {
        "id": "JtSi7W93Ngto",
        "colab": {
          "base_uri": "https://localhost:8080/"
        },
        "outputId": "a94edc4b-56e9-4baf-87c8-67e0d6451a47"
      },
      "execution_count": null,
      "outputs": [
        {
          "output_type": "execute_result",
          "data": {
            "text/plain": [
              "array(['결국은 삼성전자 대한민국 국민들은 전자제품 회사 선택의 폭이 넓은 행운을 갖고 있습니다 그리하여 국민들은 한 회사의 제품이 아닌 다른 회사의 제품을 번갈아 구매하기도 합니다 하지만 결국은 삼성전자로 돌아오게 되어있다고 생각합니다 삼성전자의 제품은 최고의 품질과 디자인을 자랑하고 이로 인해 신뢰성이 높습니다 가격이 저렴한 편은 아니지만 서비스 품질 브랜드 가치를 생각해보면 합리적인 가격이라 생각합니다 결국은 삼성전자이기 때문에 지원하게 되었습니다 또한 저는 판매영업직에 필요한 역량인 긍정적인 사고 의사소통능력 고객지향적 사고를 가지고 있습니다 일본 교환학생 시절 패스트리테일링의 대형 의류매장인 에서 개월간 근무했었습니다 이 때 저는 외국인 파트타이머 최초 이달의 서비스왕 타이틀을 받은 영광스러운 경험도 있습니다 이 계기로 저의 역량에 대한 확신을 갖게 되었고 영업 관련 직무를 하겠다는 다짐을 했습니다 저는 저의 역량을 최대한으로 발휘하여 고객에게 최고의 서비스와 제품 그리고 삼성전자의 신뢰를 전해드리겠습니다 입사 후 회사에서 이루고 싶은 꿈은 제가 속한 지점이 도내 최고의 매출과 최고의 서비스를 달성하는 것입니다 개인적인 꿈은 제가 속한 지점에서 제가 판매 실적 위를 달성하는 것입니다 판매영업직에 있어서 높은 매출과 고객으로부터의 긍정적인 평가는 최고의 업적이자 목표이기 때문입니다  ',\n",
              "       '다양한 유통업 현장에서 나를 발견하다 자군 제대후 대형마트 계산원 핸드폰 판매 의류판매등 다양한 서비스직 아르바이트를 통해 처음 유통에 관심을 갖게 되었습니다 비록 아르바이트직이라 말단 직원에 불과했지만 고객과 가장 가까이서 일한다는 자부심을 갖고 일했습니다 년간 의류매장 아르바이트를 할때 한분 한분의 고객을 상대하는 짧은 시간에도 항상 미소를 잃지 않으려고 노력했고 저의 친절한 태도와 서비스에 감동하여 매장을 재방문 해주셨다는 고객의 소리를 듣고 큰 보람을 느꼈습니다 그에 힘입어 보다 열심히 아르바이트를 할 수 있었고 결국 매장관리 매니저까지 할 수 있었습니다 또한 년간 봉사활동을 하면서 젊은세대부터 노인세대까지 다양한 연령대의 사람들을 만나보면서 사람과 소통하는 일에 큰 자신감도 생겼습니다 이러한 저의 관심과 열정을 통해 다양한 유통채널을 보유한 리테일에의 성장에 기여하겠습니다',\n",
              "       '고객의 마음을 읽는 영업인재다양한 서비스직 아르바이트를 통해 사람의 마음을 헤아리는 방법을 배웠습니다 이는 책 신문 유명강연을 통해서는 배울 수 없는 저만의 경험을 통한 자산이라고 생각합니다 이러한 노하우를 통해 리테일이 고객의 사랑과 존경을 받는 기업이 되게 하겠습니다 또한 쇼핑몰 창업중 고객들에게 이벤트를 열어 매출을 증가시켰던 경험을 살려 리테일이 단순히 상품만을 파는 기업이 아니라 문화를 함께 나눌 수 있는 곳으로 만들겠습니다건강한 신체를 바탕으로 한 건강한 실적 발로 뛰어다녀야 하는 영업직무는 체력관리가 중요하다고 생각합니다 시간에 쫒기는 회사생활 속에서도 지금처럼 틈틈이 좋아하는 등산을 통해 체력관리에 꾸준히 힘을 쓰겠습니다 건강한 신체가 뒷받침되어 건강한 실적을 내어 리테일의 성장에 기여하겠습니다',\n",
              "       ...,\n",
              "       '혁신박스의 새로운 트렌드를 선도 팬시 제조업의 입지를 굳건히 지키고 있는 아트박스의 팬으로서 아이디어와 사람이 만나는 현장경영의 숨은 가 되어 팬시 트렌드를 선도 할 것입니다  또한 점포별 신뢰를 쌓기 위해 주 회 이상은 개인적 연락을 하며 소통을 취할 것입니다 경영기획자의 입지에서 불변의 법칙은 창조라는 말을 가슴에 새기며 도전적이고 중점적으로 조직 적응력을 키워나가고 팀원 내 모든 이들의 직무와 존재 이유가 명확해질 수 있는 브렌드파워 위 대한민국 등 팬시 제조기업으로의 위상을 가질 수 있도록 노력할 것입니다',\n",
              "       '공기와 같은 기업 한일 시멘트를 집약적으로 표현할 수 있는 말입니다 고품질의 시멘트를 생산해온 한일시멘트는 대한민국 국민들의 일생상활을 책임져 왔습니다 그 중에서도 저에게 특별한 기억으로 남아있는 제품은 레미콘 입니다 어릴적 아버지의 직장에 방문하면 시멘트를 실은 한일시멘트의 레미콘 차량이 출입하곤 했고 이 때 부터 한일이라는 기업이 머리속에 각인되어 있었습니다 아쉬운점   년동안 지속되어 오며 지금까지 이 제품이 업계 정상을 지킬 수 있었던 한일 시멘트의 제품에 대한 솔직함 때문이라고 생각합니다 한 치의 거짓이나 명예를 속이는 일이 있었다면 이토록 오랫동안 국민들에게 사랑받지 못했을 것이며 저 또한 기업의 도덕성과 명예를 으뜸 가치로 여기는 사람이기에 한일 시멘트를 주저하지 않고 선택하였습니다 저는 공정운영을 잘 할수 있다는 강점이 있습니다  방학동안 화학제품을 생산하는 공장에서 일을 하며 파일럿 공정에서 시제품을 생산하였습니다 이때 생기는 여러가지 문제를 효율적으로 해결하여 주의 생산기한을 주로 앞당긴 적이 있습니다 한일 시멘트의 생산공정관리를 책임지는 인재가 되겠습니다 좋은점 ',\n",
              "       '자료없음'], dtype=object)"
            ]
          },
          "metadata": {},
          "execution_count": 17
        }
      ]
    },
    {
      "cell_type": "code",
      "source": [
        "# data = df['A1']\n",
        "\n",
        "# tagged_data = []\n",
        "\n",
        "\n",
        "# for i, _d in enumerate(data):\n",
        "#  tagged_data.append(TaggedDocument(words=word_tokenize(_d.lower()), tags=[str(i)]))\n",
        "\n",
        "tagged_corpus_list = []\n",
        "\n",
        "for index, row in tqdm(df.iterrows(), total=len(df)):\n",
        "  text = row['jiwon']\n",
        "  tag = row['corp_nm']\n",
        "  tagged_corpus_list.append(TaggedDocument(tags=[tag], words=word_tokenize(text)))\n",
        "\n",
        "print('문서의 수 :', len(tagged_corpus_list))"
      ],
      "metadata": {
        "colab": {
          "base_uri": "https://localhost:8080/"
        },
        "id": "nRFYSVi_KSyR",
        "outputId": "a73521b7-7876-48b0-feaf-d40618c92bae"
      },
      "execution_count": null,
      "outputs": [
        {
          "output_type": "stream",
          "name": "stderr",
          "text": [
            "100%|██████████| 11106/11106 [00:07<00:00, 1424.07it/s]"
          ]
        },
        {
          "output_type": "stream",
          "name": "stdout",
          "text": [
            "문서의 수 : 11106\n"
          ]
        },
        {
          "output_type": "stream",
          "name": "stderr",
          "text": [
            "\n"
          ]
        }
      ]
    },
    {
      "cell_type": "code",
      "source": [
        "import torch"
      ],
      "metadata": {
        "id": "LQwZJOHkfAS-"
      },
      "execution_count": null,
      "outputs": []
    },
    {
      "cell_type": "code",
      "source": [
        "#GPU 사용\n",
        "device = torch.device(\"cuda:0\")"
      ],
      "metadata": {
        "id": "dTub7MUncIAK"
      },
      "execution_count": null,
      "outputs": []
    },
    {
      "cell_type": "code",
      "source": [
        "max_epochs = 100\n",
        "vec_size = 300\n",
        "alpha = 0.025\n",
        "\n",
        "model = Doc2Vec(size=vec_size, #vector_size 는 임베딩 벡터의 크기입니다. 벡터 사이즈가 클수록 생성된 모델의 성능이 정교\n",
        "                alpha=alpha,  #word2vec도 아주 간단한 NN이라고 보이고 역시 backword연산시 얼만큼 업데이트 할지에 대한 learning rate를 \n",
        "                              #신경쓰지 않을수 없지만 테스트할때, 사정상 체크하지 못한 변수\n",
        "                min_alpha=0.00025, #min learning rate parameter, 학습이 진행 될수록 alpha 값이 min_alpha로 떨어진다. \n",
        "                min_count=2, # 빈도수\n",
        "                dm =0)# 차원평균\n",
        "  \n",
        "model.build_vocab(tagged_corpus_list)\n",
        "\n",
        "for epoch in range(max_epochs):\n",
        "    #print('iteration {0}'.format(epoch))\n",
        "    model.train(tagged_corpus_list,\n",
        "                total_examples=model.corpus_count,\n",
        "                epochs=model.iter)\n",
        "    # decrease the learning rate\n",
        "    model.alpha -= 0.0002\n",
        "    # fix the learning rate, no decay\n",
        "    model.min_alpha = model.alpha\n",
        "\n",
        "model.save(\"d2v.model\")\n",
        "print(\"Model Saved\")"
      ],
      "metadata": {
        "colab": {
          "base_uri": "https://localhost:8080/"
        },
        "id": "mTqNBjSgQc2f",
        "outputId": "534e3450-f758-478b-f1e8-b93ce759114e"
      },
      "execution_count": null,
      "outputs": [
        {
          "output_type": "stream",
          "name": "stderr",
          "text": [
            "WARNING:gensim.models.base_any2vec:Effective 'alpha' higher than previous training cycles\n"
          ]
        },
        {
          "output_type": "stream",
          "name": "stdout",
          "text": [
            "Model Saved\n"
          ]
        }
      ]
    },
    {
      "cell_type": "code",
      "source": [
        "from gensim.models.doc2vec import Doc2Vec\n",
        "\n",
        "model= Doc2Vec.load(\"d2v.model\")\n",
        "#to find the vector of a document which is not in training data\n",
        "test_data = word_tokenize(\"다양한 유통업 현장에서 나를 발견하다 자군 제대후 대형마트 계산원 핸드폰 판매 의류판매등 다양한 서비스직 아르바이트를 통해 처음 유통에 관심을 갖게 되었습니다 비록 아르바이트직이라 말단 직원에 불과했지만 고객과 가장 가까이서 일한다는 자부심을 갖고 일했습니다 년간 의류매장 아르바이트를 할때 한분 한분의 고객을 상대하는 짧은 시간에도 항상 미소를 잃지 않으려고 노력했고 저의 친절한 태도와 서비스에 감동하여 매장을 재방문 해주셨다는 고객의 소리를 듣고 큰 보람을 느꼈습니다 그에 힘입어 보다 열심히 아르바이트를 할 수 있었고 결국 매장관리 매니저까지 할 수 있었습니다\".lower())\n",
        "\n",
        "print(model.docvecs.most_similar(positive=[model.infer_vector(test_data)],negative=['자료없음'],topn=5))"
      ],
      "metadata": {
        "colab": {
          "base_uri": "https://localhost:8080/"
        },
        "id": "aKvI2K6OKUSR",
        "outputId": "c14b6ace-16a0-4ebe-f406-62e4361eed19"
      },
      "execution_count": null,
      "outputs": [
        {
          "output_type": "stream",
          "name": "stdout",
          "text": [
            "[('GS리테일', 0.38751184940338135), ('이랜드월드패션사업부', 0.36791905760765076), ('스위스포트코리아', 0.3515476584434509), ('롯데이커머스', 0.34082186222076416), ('GS리테일H&B', 0.3403356671333313)]\n"
          ]
        }
      ]
    },
    {
      "cell_type": "code",
      "source": [
        "df['corp_nm'].value_counts().head(20)"
      ],
      "metadata": {
        "id": "ODTg8DFRp1CU",
        "colab": {
          "base_uri": "https://localhost:8080/"
        },
        "outputId": "73d471d5-348f-4183-fc07-a18578d5361d"
      },
      "execution_count": null,
      "outputs": [
        {
          "output_type": "execute_result",
          "data": {
            "text/plain": [
              "삼성전자         488\n",
              "GS리테일        342\n",
              "KT           292\n",
              "LG디스플레이      233\n",
              "현대자동차        216\n",
              "대한항공         157\n",
              "한국중부발전       152\n",
              "LG전자         131\n",
              "CJ대한통운       131\n",
              "한국동서발전       125\n",
              "현대모비스        114\n",
              "CJ제일제당       112\n",
              "서울교통공사        91\n",
              "금호타이어         86\n",
              "두산중공업         80\n",
              "신한은행          75\n",
              "LG이노텍         74\n",
              "효성            74\n",
              "CJ올리브네트웍스     71\n",
              "한샘            70\n",
              "Name: corp_nm, dtype: int64"
            ]
          },
          "metadata": {},
          "execution_count": 23
        }
      ]
    },
    {
      "cell_type": "code",
      "source": [
        "#삼성디스플레이(개발연구직)\n",
        "test_data = word_tokenize(\"저는 항상 새로운 것에 관심이 많았습니다 유년기때는 티비에서 나오는 장난감에 눈이 돌아가서 한달 넘게 뗴쓰기도 하였고 친구들과 연락을 하고 싶어서 부모님이 기말고사 성적이 점 이상이면 사주겠다는 얘기에 몇날몇일을 공부해서 새 핸드폰을 들고 자랑했었던 기억이 있습니다 그 습관이 지속 되어서 현재도 새로운 기기나 장치가 나오면 관련 사이트를 검색하고 커뮤니티를 찾아보는것이 일상이 되었습니다 그 중에서도 특히 저는 시각적 효과에 관심이 많았습니다 소리가 더 화려하게 들리는 것 보다도 화면이 개선되어 눈에 더 익은 화면을 보는것에 흥미를 느꼈습니다 또한 사진을 찍는게 취미인 것도 화면이라는 것에 더 흥미를 가게 만들었습니다 똑같은 사진을 찍고 확인을 할때 작고 화질이 안 좋은 화면을 보는것보다 선명하고 큰 화면으로 사진을 확인할때 기쁨을 느꼈었습니다 그러한 삶의 환경 속에서 직업을 선택 하는 과정에서 디스플레이라는 회사를 가고 싶은 열망이 생겼고 그 중에서도 세계 제일이자  점유율 위인 삼성디스플레이 회사로 가고 싶다는 의지가 생겼습니다 제가 회사를 입사 한 후에는 연구계발부서에서 저 같이 시각적 환경에 더욱 민감한 사람들의 니즈를 채워줄수 있는 화면을 만들고 개발하고 싶습니다 특히 사진이 취미라서 카메라에 있는 창에서 보는 화면이 찍은 그대로 볼수 있는 고선명한 소형 디스플레이를 만들고싶습니다\".lower())\n",
        "\n",
        "print(model.docvecs.most_similar(positive=[model.infer_vector(test_data)],negative=['자료없음'],topn=5))"
      ],
      "metadata": {
        "id": "R6M6HI4ucxzL",
        "colab": {
          "base_uri": "https://localhost:8080/"
        },
        "outputId": "e0e6ea16-8fe0-42b7-9fd3-4d84983644a9"
      },
      "execution_count": null,
      "outputs": [
        {
          "output_type": "stream",
          "name": "stdout",
          "text": [
            "[('삼성디스플레이', 0.5113987922668457), ('이랜드(리테일)', 0.298244833946228), ('문화방송', 0.2592659294605255), ('화승소재', 0.24956835806369781), ('세원셀론텍', 0.24933205544948578)]\n"
          ]
        }
      ]
    },
    {
      "cell_type": "code",
      "source": [
        "#국민건강보험공단일산병원 \n",
        "test_data = word_tokenize(\"간호사로서의 도약을 탄탄한 기본기로 만들며 시작하고 싶었습니다 그래서 근무 개월 전 간호단위 실무교육과 같이 신규 간호사 교육이 충분히 운영되고 있으며 이에 만족도가 높은 국민건강보험 일산병원에서 근무하고 싶어 지원하게 되었습니다 또한 인 병실을 기준 병실로 채택한 것에서 환자의 심리적인 안정감과 감염 예방을 위해 노력하는 병원이 좋았습니다 책임감 있게 오래 근무하면서 학술대회나 포럼에 참석하여 변화하는 간호의 견식을 넓힐 것입니다 그리고 입사 년 후 석사 공부를 시작하고 전문간호사 자격을 취득하여 환자와 병원에 작지만 강한 힘을 줄 수 있는 간호사가 될 것입니다    입사 후 업무를 수행함에 있어 원만한 직장생활을 위한 태도 매너 올바른 직업관이 왜 중요한 지 본인의 가치관을 중심으로 작성해 주십시오 자  못한다고 하지 말고 일단 시도해보자 시간이 지나면 아무것도 아니다  직장생활이란 인생의 마라톤을 동료들과 함께 달리는 것으로 생각합니다 따라서 긍정적인 태도 매너 간호사로서 가져야 할 올바른 직업관이 꼭 필요하다고 생각합니다 소제목은 저의 생활신조이자 가치관이며 시작하기가 두렵거나 긴장이 되면 두 문장을 떠올립니다 부담되고 힘들었지만 돌아보면 그 과정을 통해 더욱 성장했음을 깨닫게 되었고 저에게 일어난 작은 일 중 하나였다는 걸 알게 되었습니다 저의 역량으로 충분히 할 수 있는 것인지 시도하기 전까지는 모르기 때문에 결과에 상관없이 시작했다는 것을 중요하게 생각하게 되었습니다 신규 간호사로 근무하면서 힘든 일이 생기면 회피하지 않고 그 시기를 참고 버틴다면 병원에 적응하고 오래 근무할 힘이 생길 거라고 믿고 있습니다 소속감을 느끼고 환자와 동료들에게 한 행동에 책임을 지며 서로 도우며 어울릴 수 있는 간호사가 되기로 다짐했습니다\".lower())\n",
        "\n",
        "print(model.docvecs.most_similar(positive=[model.infer_vector(test_data)],negative=['자료없음'],topn=5))"
      ],
      "metadata": {
        "colab": {
          "base_uri": "https://localhost:8080/"
        },
        "id": "JF9PoqUifmr5",
        "outputId": "477197d6-1416-49f5-d776-1b87970393c0"
      },
      "execution_count": null,
      "outputs": [
        {
          "output_type": "stream",
          "name": "stdout",
          "text": [
            "[('국민건강보험공단일산병원', 0.8547293543815613), ('앰코코리아', 0.31279098987579346), ('국립암센터', 0.2974633276462555), ('가톨릭대학교여의도성모병원', 0.2843262851238251), ('인천성모병원', 0.27720314264297485)]\n"
          ]
        }
      ]
    },
    {
      "cell_type": "code",
      "source": [
        "#LG화학(영업)\n",
        "test_data = word_tokenize(\"당시 마케팅에 관심이 있었던 저는패션 디자인 과목을 수강했습니다 일러스트레이션을 사용해야 하는 수업의 특성상 학생 간 기본기 차이가심해서 기초 지식이 없었던 저는 뒤처질 수밖에 없었고 교수님 또한 기본 실력 차이를 고려해 조심스럽게 드랍을 권유하셨습니다 하지만 저는 이러한 상황을 극복하기 위해 수업 이후 교실에 남아서 시간수업을 그대로 시간 동안 복습했습니다 그 결과 명 정원인 수업에 홀로 남자였던 저는 전체 등의 성적으로 학기를마칠 수 있었고 제가 제작한 디자인 포트폴리오는 이후 수업의 교본으로 사용되었습니다 한국 대표를 넘어서세계를 무대로 하는 화학의 도전에 제 모습을 그려보고 싶습니다\".lower())\n",
        "\n",
        "print(model.docvecs.most_similar(positive=[model.infer_vector(test_data)],negative=['자료없음'],topn=5))"
      ],
      "metadata": {
        "colab": {
          "base_uri": "https://localhost:8080/"
        },
        "id": "ykqwVePhfqwn",
        "outputId": "c04f185b-25c7-4de7-ba93-195151314ba7"
      },
      "execution_count": null,
      "outputs": [
        {
          "output_type": "stream",
          "name": "stdout",
          "text": [
            "[('LG화학', 0.47731778025627136), ('삼성SDI', 0.3654783070087433), ('한국사회복지협의회', 0.2986295819282532), ('윌비스', 0.2708629071712494), ('그린웹서비스', 0.26663506031036377)]\n"
          ]
        }
      ]
    },
    {
      "cell_type": "code",
      "source": [
        "#신세계 (매장관리)\n",
        "test_data = word_tokenize(\" 트렌디한 직장에서 일하는 꿈   트렌드에 민감한 직장에서 일하고 싶다는 꿈이 있었습니다 이를 위하여 저는 발로 뛰는 활동을 통해 다양한 경험을 쌓으려 노력했습니다 대학생활을 하며 교내 동아리 회장과 전국단위의 동아리의 회장을 역임하며 행사나 봉사활동 등 다양한 프로그램을 기획하고 한 집단에서 생기는 크고 작은 문제를 소통을 통해 원만하게 풀어내는 능력을 길렀습니다 다년간 남성 패션 그루밍 유투브 채널 운영한 경험을 바탕으로 마음이 맞는 동료들과 소규모의 작은 콘텐츠 제작 회사를 창업하여 년간 운영하며 다양한 브랜드와의 협업을 진행하였습니다 패션 브랜드 대외활동을 통해 프로모션을 기획하여 우수작으로 선정되기도 하였습니다 때로는 책상 앞에서 때로는 발로 뛰며 풍부한 경험을 쌓았습니다 이로부터 얻어낸 제가 지닌 역량은 신세계 백화점의 일원으로서 회사와 함께 성장하고 발전하는 밑거름이 되어줄 것입니다 신세계와 함께 국내 최고 패션 플랫폼 육성의 꿈을 이루고 싶습니다\".lower())\n",
        "\n",
        "print(model.docvecs.most_similar(positive=[model.infer_vector(test_data)],negative=['자료없음'],topn=5))"
      ],
      "metadata": {
        "colab": {
          "base_uri": "https://localhost:8080/"
        },
        "id": "SwCMgIkUfveJ",
        "outputId": "1a2ba903-2000-4955-d62a-f8560336ad6d"
      },
      "execution_count": null,
      "outputs": [
        {
          "output_type": "stream",
          "name": "stdout",
          "text": [
            "[('신세계', 0.7051462531089783), ('그린웹서비스', 0.3028155565261841), ('LGC&S', 0.2877478301525116), ('이랜드(리테일)', 0.28253301978111267), ('애플코리아(유)', 0.2802239656448364)]\n"
          ]
        }
      ]
    },
    {
      "cell_type": "code",
      "source": [
        "#대한항공(설치,정비AS)\n",
        "test_data = word_tokenize(\"나누며 성장하는 대한항공  국내외 여러 항공사 중 제가 대한항공을 선택한 이유는 크게 두 가지입니다 첫 번째로 저는 기업의 비전을 봅니다 단순히 이윤만을 쫓기보다 무주택 서민을 위한 사랑의 집짓기 행사를 개최하며 사회공헌에 투자하는 경영방침은 타인에게 보탬이 되고자하는 저의 가치관과 가장 부합하기 때문입니다  두 번째는 끊임없이 혁신을 추구하는 기업이기 때문입니다 대한항공은 국내 최고의 항공사임에도 최근 열 번째  항공기를 도입하며 끊임없이 혁신을 추구하고 있습니다 이러한 대한항공 입사하여 기업과 함께 발전해 나가는 인재가 되고 싶습니다\".lower())\n",
        "\n",
        "print(model.docvecs.most_similar(positive=[model.infer_vector(test_data)],negative=['자료없음'],topn=5))"
      ],
      "metadata": {
        "colab": {
          "base_uri": "https://localhost:8080/"
        },
        "id": "Bst6tDy1gQc3",
        "outputId": "fadcebd6-7029-48e6-b474-c7f1e37980ca"
      },
      "execution_count": null,
      "outputs": [
        {
          "output_type": "stream",
          "name": "stdout",
          "text": [
            "[('대한항공', 0.5223259925842285), ('코리아오토글라스', 0.28576022386550903), ('제주특별자치도개발공사', 0.27375099062919617), ('아이크래프트', 0.271336168050766), ('이랜드전략기획', 0.26962682604789734)]\n"
          ]
        }
      ]
    },
    {
      "cell_type": "code",
      "source": [
        "#이마트(판매,서빙,매장관리)\n",
        "test_data = word_tokenize(\"이마트는 변화하는 트렌드를 선도하며 유통업계에서 독보적인 신장을 하고 있는 유일한 기업으로 테슬러 입점, 스타필드 개점 등 끊임없는 변화로 국내 1위를 넘어 중국, 베트남, 몽골 등 세계적으로 주목받는 글로벌 유통기업으로 성장하고 있습니다. 시작은 작았지만 꾸준한 고객과의 소통을 바탕으로 발전하는 이마트의 모습에서 함께 하고 싶은 미래를 보게 되었습니다.저는 고객과의 접점인 영업장에서 이마트만의 프리미엄 이미지를 강화하는 제품과 서비스를 고민하고 관리해나가겠습니다. 고객의 소리를 놓치지 않으려 경청하고 불편사항의 신속한 접수와 처리에 집중하여 현장 근무 중 고객불만건수를 줄이기 위해 노력하겠습니다.또한, 다양한 상황에 유연하게 대처하기 위하여 상황별 매뉴얼을 익히고 꾸준한 공부와 발전을 통해 매장관리 전반을 아우르는 인재가 되겠습니다. 더 나아가 이마트만의 특색있는 매장을 기획하고 관리하여 이 사회를 즐거움으로 가득 채우는 것이 저의 비전입니다.\".lower())\n",
        "\n",
        "print(model.docvecs.most_similar(positive=[model.infer_vector(test_data)],negative=['자료없음'],topn=5))"
      ],
      "metadata": {
        "colab": {
          "base_uri": "https://localhost:8080/"
        },
        "id": "IsyST0F1hrML",
        "outputId": "248c8871-d60d-4bed-f447-cdd2f5cabc7f"
      },
      "execution_count": null,
      "outputs": [
        {
          "output_type": "stream",
          "name": "stdout",
          "text": [
            "[('이마트', 0.7017215490341187), ('비알코리아', 0.4482702314853668), ('진에어', 0.36036965250968933), ('한살림소비자생활협동조합연합회', 0.3128868043422699), ('금호아시아나', 0.2948087155818939)]\n"
          ]
        }
      ]
    },
    {
      "cell_type": "code",
      "source": [],
      "metadata": {
        "id": "-N9qaUWDgELo"
      },
      "execution_count": null,
      "outputs": []
    }
  ]
}